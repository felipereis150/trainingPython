{
  "cells": [
    {
      "cell_type": "markdown",
      "metadata": {
        "id": "f3mKr6dsiSds"
      },
      "source": [
        "# Vamos explorar e processar dados com Python!\n",
        "\n",
        "Para exercitar nossas capacidades de EDA (Exploratory Data Analisys), vamos utilizar uma das linguagens mais consagradas na área de dados: Python! Para apoiar nosso trabalho, também poderemos utilizar algumas ferramentas poderosas escritas em linguagem python que são muito eficientes e práticas para esse propósito, são elas: Pandas, Numpy e pyplot.\n",
        "\n",
        "O material a ser explorado é talvez o banco de dados mais conhecido que pode ser encontrado na literatura de reconhecimento de padrões. O artigo de Fisher é um clássico na área e é referenciado com frequência até hoje.  O conjunto de dados contém características de 3 classes de plantas tipo íris:  Iris Setosa, Iris Versicolour, Iris Virginica. Essas plantas podem ser identificadas a partir de combinação nas medidas de suas pétalas e sépalas.\n",
        "\n",
        "O objetivo deste desafio é verificar sua capacidade de identificar informações básicas em uma tabela de dados como: tipo de colunas, quantidades de registros, etc. Manipular e processar esses dados e resgatar informações descritivas e visuais dos dados que possam revelar o seu comportamento.\n",
        "\n",
        "\n",
        "Agora vamos codar!\n",
        "\n"
      ]
    },
    {
      "cell_type": "markdown",
      "metadata": {
        "id": "4JMvj89hZtU3"
      },
      "source": [
        "# Importando bibliotecas no python\n",
        "  \n",
        "1.  Importe as bibliotecas numpy, pandas e pyplot\n",
        "\n",
        "https://pandas.pydata.org/pandas-docs/stable/reference/\n",
        "\n",
        "https://numpy.org/\n",
        "\n",
        "https://matplotlib.org/stable/api/_as_gen/matplotlib.pyplot.html\n",
        "\n",
        "Um pouco mais sobre o tema: https://cadernodelaboratorio.com.br/import-em-python/"
      ]
    },
    {
      "cell_type": "markdown",
      "metadata": {
        "id": "mO89j2tWZsdN"
      },
      "source": [
        "# Importando os dados como um dataframe Pandas\n",
        " \n",
        " Use a função 'read_csv' conforme documentação: https://pandas.pydata.org/pandas-docs/stable/reference/api/pandas.read_csv.html para importar o arquivo do link: https://archive.ics.uci.edu/ml/machine-learning-databases/iris/iris.data como um dataframe Pandas. Utilize como nome das colunas a lista:\n",
        "columns = ['sepal_length','sepal_width','petal_length','petal_width','class']\n"
      ]
    },
    {
      "cell_type": "markdown",
      "metadata": {
        "id": "L-GaXy90dOpO"
      },
      "source": [
        "# Visualize informações sobre os dados (colunas, número de linhas, e tipos de dados das colunas). Você pode utilizar a biblioteca Pandas, Numpy ou outros métodos de sua preferência."
      ]
    },
    {
      "cell_type": "code",
      "execution_count": 2,
      "metadata": {},
      "outputs": [],
      "source": [
        "import pandas as pd\n",
        "import numpy as np\n",
        "import matplotlib.pyplot as plt"
      ]
    },
    {
      "cell_type": "code",
      "execution_count": 4,
      "metadata": {},
      "outputs": [
        {
          "data": {
            "text/html": [
              "<div>\n",
              "<style scoped>\n",
              "    .dataframe tbody tr th:only-of-type {\n",
              "        vertical-align: middle;\n",
              "    }\n",
              "\n",
              "    .dataframe tbody tr th {\n",
              "        vertical-align: top;\n",
              "    }\n",
              "\n",
              "    .dataframe thead th {\n",
              "        text-align: right;\n",
              "    }\n",
              "</style>\n",
              "<table border=\"1\" class=\"dataframe\">\n",
              "  <thead>\n",
              "    <tr style=\"text-align: right;\">\n",
              "      <th></th>\n",
              "      <th>sepal_length</th>\n",
              "      <th>sepal_width</th>\n",
              "      <th>petal_length</th>\n",
              "      <th>petal_width</th>\n",
              "      <th>class</th>\n",
              "    </tr>\n",
              "  </thead>\n",
              "  <tbody>\n",
              "    <tr>\n",
              "      <th>0</th>\n",
              "      <td>4.9</td>\n",
              "      <td>3.0</td>\n",
              "      <td>1.4</td>\n",
              "      <td>0.2</td>\n",
              "      <td>Iris-setosa</td>\n",
              "    </tr>\n",
              "    <tr>\n",
              "      <th>1</th>\n",
              "      <td>4.7</td>\n",
              "      <td>3.2</td>\n",
              "      <td>1.3</td>\n",
              "      <td>0.2</td>\n",
              "      <td>Iris-setosa</td>\n",
              "    </tr>\n",
              "    <tr>\n",
              "      <th>2</th>\n",
              "      <td>4.6</td>\n",
              "      <td>3.1</td>\n",
              "      <td>1.5</td>\n",
              "      <td>0.2</td>\n",
              "      <td>Iris-setosa</td>\n",
              "    </tr>\n",
              "    <tr>\n",
              "      <th>3</th>\n",
              "      <td>5.0</td>\n",
              "      <td>3.6</td>\n",
              "      <td>1.4</td>\n",
              "      <td>0.2</td>\n",
              "      <td>Iris-setosa</td>\n",
              "    </tr>\n",
              "    <tr>\n",
              "      <th>4</th>\n",
              "      <td>5.4</td>\n",
              "      <td>3.9</td>\n",
              "      <td>1.7</td>\n",
              "      <td>0.4</td>\n",
              "      <td>Iris-setosa</td>\n",
              "    </tr>\n",
              "  </tbody>\n",
              "</table>\n",
              "</div>"
            ],
            "text/plain": [
              "   sepal_length  sepal_width  petal_length  petal_width        class\n",
              "0           4.9          3.0           1.4          0.2  Iris-setosa\n",
              "1           4.7          3.2           1.3          0.2  Iris-setosa\n",
              "2           4.6          3.1           1.5          0.2  Iris-setosa\n",
              "3           5.0          3.6           1.4          0.2  Iris-setosa\n",
              "4           5.4          3.9           1.7          0.4  Iris-setosa"
            ]
          },
          "execution_count": 4,
          "metadata": {},
          "output_type": "execute_result"
        }
      ],
      "source": [
        "url = \"https://archive.ics.uci.edu/ml/machine-learning-databases/iris/iris.data\"\n",
        "df = pd.read_csv(url)\n",
        "df.columns = ['sepal_length','sepal_width','petal_length','petal_width','class']\n",
        "df.head()"
      ]
    },
    {
      "cell_type": "markdown",
      "metadata": {
        "id": "NwwhoWY-ex7d"
      },
      "source": [
        "# Visualize dados descritivos das colunas numéricas da tabela (valor mínimo, valor máximo, média, desvio padrão). Você pode utilizar a biblioteca Pandas, Numpy ou outros métodos de sua preferência."
      ]
    },
    {
      "cell_type": "code",
      "execution_count": 5,
      "metadata": {},
      "outputs": [
        {
          "data": {
            "text/plain": [
              "<bound method DataFrame.info of      sepal_length  sepal_width  petal_length  petal_width           class\n",
              "0             4.9          3.0           1.4          0.2     Iris-setosa\n",
              "1             4.7          3.2           1.3          0.2     Iris-setosa\n",
              "2             4.6          3.1           1.5          0.2     Iris-setosa\n",
              "3             5.0          3.6           1.4          0.2     Iris-setosa\n",
              "4             5.4          3.9           1.7          0.4     Iris-setosa\n",
              "..            ...          ...           ...          ...             ...\n",
              "144           6.7          3.0           5.2          2.3  Iris-virginica\n",
              "145           6.3          2.5           5.0          1.9  Iris-virginica\n",
              "146           6.5          3.0           5.2          2.0  Iris-virginica\n",
              "147           6.2          3.4           5.4          2.3  Iris-virginica\n",
              "148           5.9          3.0           5.1          1.8  Iris-virginica\n",
              "\n",
              "[149 rows x 5 columns]>"
            ]
          },
          "execution_count": 5,
          "metadata": {},
          "output_type": "execute_result"
        }
      ],
      "source": [
        "df.info"
      ]
    },
    {
      "cell_type": "code",
      "execution_count": 6,
      "metadata": {},
      "outputs": [
        {
          "data": {
            "text/plain": [
              "sepal_length    7.9\n",
              "sepal_width     4.4\n",
              "petal_length    6.9\n",
              "petal_width     2.5\n",
              "dtype: float64"
            ]
          },
          "execution_count": 6,
          "metadata": {},
          "output_type": "execute_result"
        }
      ],
      "source": [
        "cols = ['sepal_length','sepal_width','petal_length','petal_width']\n",
        "df[cols].mean()\n",
        "df[cols].std()\n",
        "df[cols].min()\n",
        "df[cols].max()"
      ]
    },
    {
      "cell_type": "markdown",
      "metadata": {
        "id": "gxuA8bK6gZRq"
      },
      "source": [
        "# Crie uma lista python contendo os valores únicos da coluna 'class'. Você pode utilizar a biblioteca Pandas, Numpy ou outros métodos de sua preferência."
      ]
    },
    {
      "cell_type": "code",
      "execution_count": 7,
      "metadata": {},
      "outputs": [
        {
          "data": {
            "text/plain": [
              "['Iris-setosa', 'Iris-versicolor', 'Iris-virginica']"
            ]
          },
          "execution_count": 7,
          "metadata": {},
          "output_type": "execute_result"
        }
      ],
      "source": [
        "class_unique_values = list(pd.unique(df['class']))\n",
        "class"
      ]
    },
    {
      "cell_type": "markdown",
      "metadata": {
        "id": "5w681RnEhAS2"
      },
      "source": [
        "# Crie uma função python 'encode_class' que substitua os valores únicos da coluna class encontrados no passo anterior por uma sequência numérica começando pelo número 0. Ex: Iris-setosa -> 0, Iris-virginica -> 1, etc.."
      ]
    },
    {
      "cell_type": "code",
      "execution_count": 9,
      "metadata": {},
      "outputs": [
        {
          "data": {
            "text/plain": [
              "0        Iris-setosa\n",
              "1    Iris-versicolor\n",
              "2     Iris-virginica\n",
              "dtype: object"
            ]
          },
          "execution_count": 9,
          "metadata": {},
          "output_type": "execute_result"
        }
      ],
      "source": [
        "idx = [0, 1, 2]\n",
        "sr = pd.Series(class_unique_values)\n",
        "sr.index = idx\n",
        "sr"
      ]
    },
    {
      "cell_type": "markdown",
      "metadata": {
        "id": "k8u3Hb9Lr0D5"
      },
      "source": [
        "# Crie um dataframe auxiliar que contenha apenas os registros com classes iguais a: 'Iris-versicolor', 'Iris-virginica'. Utilize a função scatter da biblioteca matplotlib.pyplot para cria um gráfico que relacione as variáveis das colunas 'sepal_length' e 'petal_length' do dataframe auxiliar criado anteriormente. Você arriscaria dizer oque pode ser observado nesta relação? Inclua um comentário no código com suas observações."
      ]
    },
    {
      "cell_type": "code",
      "execution_count": 16,
      "metadata": {},
      "outputs": [
        {
          "data": {
            "text/plain": [
              "<matplotlib.collections.PathCollection at 0x25c4df26c40>"
            ]
          },
          "execution_count": 16,
          "metadata": {},
          "output_type": "execute_result"
        },
        {
          "data": {
            "image/png": "[encoded data removed]",
            "text/plain": [
              "<Figure size 432x288 with 1 Axes>"
            ]
          },
          "metadata": {
            "needs_background": "light"
          },
          "output_type": "display_data"
        }
      ],
      "source": [
        "# crie um data auxiliar\n",
        "filtro = ['Iris-versicolor', 'Iris-virginica']\n",
        "dados_filtrados = df[df['class'].isin(filtro)]\n",
        "dados_filtrados.columns = ['sepal_length','sepal_width','petal_length','petal_width','classes']\n",
        "plt.scatter(x = dados_filtrados.sepal_length, y = dados_filtrados.petal_length)"
      ]
    },
    {
      "cell_type": "markdown",
      "metadata": {
        "id": "TJqtr4IJsZ7K"
      },
      "source": [
        "# Utilize a função scatter da biblioteca matplotlib.pyplot para cria um gráfico que relacione as variáveis das colunas 'sepal_length', 'petal_length' e 'class'. Dica: inclua a coluna class como uma variação de cores dos pontos do gráfico. Você arriscaria dizer oque pode ser observado nesta relação? Inclua um comentário no código com suas observações."
      ]
    },
    {
      "cell_type": "code",
      "execution_count": 18,
      "metadata": {},
      "outputs": [
        {
          "data": {
            "text/plain": [
              "<matplotlib.collections.PathCollection at 0x25c500aea60>"
            ]
          },
          "execution_count": 18,
          "metadata": {},
          "output_type": "execute_result"
        },
        {
          "data": {
            "image/png": "[encoded data removed]",
            "text/plain": [
              "<Figure size 432x288 with 1 Axes>"
            ]
          },
          "metadata": {
            "needs_background": "light"
          },
          "output_type": "display_data"
        }
      ],
      "source": [
        "colors = np.where(dados_filtrados.classes == 'Iris-versicolor', 'r', 'g')\n",
        "plt.scatter(x = dados_filtrados.sepal_length, y = dados_filtrados.petal_length, c = colors)"
      ]
    }
  ],
  "metadata": {
    "colab": {
      "name": "desafio_estagiar.ipynb",
      "provenance": []
    },
    "kernelspec": {
      "display_name": "Python 3",
      "name": "python3"
    },
    "language_info": {
      "codemirror_mode": {
        "name": "ipython",
        "version": 3
      },
      "file_extension": ".py",
      "mimetype": "text/x-python",
      "name": "python",
      "nbconvert_exporter": "python",
      "pygments_lexer": "ipython3",
      "version": "3.9.6"
    }
  },
  "nbformat": 4,
  "nbformat_minor": 0
}
